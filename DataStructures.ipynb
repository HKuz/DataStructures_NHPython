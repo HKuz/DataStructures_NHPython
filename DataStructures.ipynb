{
 "cells": [
  {
   "cell_type": "markdown",
   "metadata": {},
   "source": [
    "# Python Data Structures\n",
    "\n",
    "All programming languages have ways to store and recognize different types of data (numbers, text, etc.), along with the logical mechanisms that allow you to perform useful or interesting things on that data. Often times you'll need more complex ways to organize your program's data than having each item saved in a variable.\n",
    "\n",
    "**Data structures** are schemes for how to organize your data in more efficient or effective ways. Python offers many different options, and the 'best' choice will highly depend on the task your program is performing. Taking the time to think through your options can not only make your job of coding the program easier, but also optimize it to run faster and/or use less memory.\n",
    "\n",
    "Table of Contents:\n",
    "\n",
    "- <a href=\"#list\">Lists</a>\n",
    "- <a href=\"#sets\">Sets</a>\n",
    "- <a href=\"#frozsets\">Frozen Sets</a>\n",
    "- <a href=\"#comprehensions\">Comprehensions</a>\n",
    "- <a href=\"#arrays\">numpy Arrays</a>\n"
   ]
  },
  {
   "cell_type": "markdown",
   "metadata": {},
   "source": [
    "## <a name=\"lists\"></a>Lists\n",
    "\n",
    "In Python, a `list` is a collection of items with the following properties:\n",
    "\n",
    "- It's *mutable*: you can change it after you've created it\n",
    "- It's *ordered*: each item's 'address' is its index (aka it's position) in the list (note, this does not mean it's *sorted*, that's a different concept)\n",
    "- Usually the items are all the same type (homogenous list), but they don't have to be (heterogenous list)\n",
    "\n",
    "A list is what's called a sequence in Python, which means it's automatically iterable and items can be accessed using integer indices. \n",
    "\n",
    "[Python documentation on lists](https://docs.python.org/3/library/stdtypes.html#list)"
   ]
  },
  {
   "cell_type": "code",
   "execution_count": 9,
   "metadata": {},
   "outputs": [
    {
     "name": "stdout",
     "output_type": "stream",
     "text": [
      "[1, 2, 3, 4, 5]\n",
      "[]\n",
      "['a', 'b', 'c']\n"
     ]
    }
   ],
   "source": [
    "# Create a list with square brackets\n",
    "l1 = [1, 2, 3, 4, 5]\n",
    "print(l1)\n",
    "\n",
    "# Create a list with the `list` type constructor and optionally another iterable\n",
    "l_empty = list()\n",
    "print(l_empty)\n",
    "\n",
    "l_from_str = list('abc')\n",
    "print(l_from_str)"
   ]
  },
  {
   "cell_type": "code",
   "execution_count": 84,
   "metadata": {},
   "outputs": [
    {
     "name": "stdout",
     "output_type": "stream",
     "text": [
      "Heterogenous list: [42, True, 'Hello', None, 9.9, ['a', 'b', 'c', 'd']]\n",
      "\n",
      "42 is type <class 'int'>\n",
      "True is type <class 'bool'>\n",
      "Hello is type <class 'str'>\n",
      "None is type <class 'NoneType'>\n",
      "9.9 is type <class 'float'>\n",
      "['a', 'b', 'c', 'd'] is type <class 'list'>\n"
     ]
    }
   ],
   "source": [
    "# Unlike arrays in other languages, can hold different data types\n",
    "l_mixed = [42, True, 'Hello', None, 9.9, l_from_str]\n",
    "print(f'Heterogenous list: {l_mixed}\\n')\n",
    "\n",
    "for item in l_mixed:\n",
    "    print(f'{item} is type {type(item)}')"
   ]
  },
  {
   "cell_type": "code",
   "execution_count": 12,
   "metadata": {},
   "outputs": [
    {
     "name": "stdout",
     "output_type": "stream",
     "text": [
      "Before: ['a', 'b', 'c']\n",
      "After: ['a', 'b', 'c', 'd']\n"
     ]
    }
   ],
   "source": [
    "# You can add items to the end of a list with `.append()` method\n",
    "print('Before append:', l_from_str)\n",
    "l_from_str.append('d')\n",
    "print('After append:', l_from_str)\n",
    "\n",
    "# You can remove items"
   ]
  },
  {
   "cell_type": "markdown",
   "metadata": {},
   "source": [
    "### List Indexing and Slicing\n",
    "\n",
    "As noted above, lists are accessed by an item's index. Python uses zero-based indexing, so the first item has index 0, then subsequent integers. You can also access items with negative indexing - those start at the end of the list with -1.\n",
    "\n",
    "```shell\n",
    "Length of list: 6\n",
    "\n",
    "Index from front:   0    1    2    3    4    5\n",
    "List Items (L):    ['a', 'b', 'c', 'd', 'e', 'f']\n",
    "Index from rear:    -6   -5   -4   -3   -2   -1\n",
    "```\n",
    "\n",
    "`L[0] -> 'a'` and `L[-1] -> 'f'`\n",
    "\n",
    "**Slicing** allows you to select a segment of items in the list. The sytax for a slice is:\n",
    "\n",
    "```py\n",
    "L[start:stop:step]\n",
    "```\n",
    "\n",
    "Note that the `stop` index is not inclusive. Leaving the `start` or `stop` value blank will default to using the start and end of the list, respectively. So a quick way to create a copy of a list is `L[:]`.\n",
    "\n",
    "You can use indexing and slicing to **access**, **update**, **insert**, or **delete** items in the list."
   ]
  },
  {
   "cell_type": "code",
   "execution_count": 74,
   "metadata": {},
   "outputs": [
    {
     "name": "stdout",
     "output_type": "stream",
     "text": [
      "['a', 'b', 'c', 'd', 'e', 'f', 'g']\n",
      "Middle index: 3\n",
      "Middle item: d\n"
     ]
    }
   ],
   "source": [
    "# Create example list\n",
    "l_alpha = list('abcdefg')\n",
    "print(l_alpha)\n",
    "\n",
    "# Grab the middle item\n",
    "mid_idx = len(l_alpha)//2\n",
    "print(f'Middle index: {mid_idx}')\n",
    "print(f'Middle item: {l_alpha[mid_idx]}')"
   ]
  },
  {
   "cell_type": "code",
   "execution_count": 94,
   "metadata": {},
   "outputs": [
    {
     "name": "stdout",
     "output_type": "stream",
     "text": [
      "Starting matrix: [['r0_c0', 'r0_c1'], ['r1_c0', 'r1_c1'], ['r2_c0', 'r2_c1']]\n",
      "Get second row's first item: r1_c0\n"
     ]
    }
   ],
   "source": [
    "# Multi-level indexing: accessing items in lists of lists\n",
    "\n",
    "# Create a matrix\n",
    "M = [\n",
    "    # 1st col 2nd col\n",
    "    ['r0_c0', 'r0_c1'], # First row: M[0]\n",
    "    ['r1_c0', 'r1_c1'], # Second row: M[1]\n",
    "    ['r2_c0', 'r2_c1'], # Third row: M[2]\n",
    "]\n",
    "\n",
    "print(f'Starting matrix: {M}')\n",
    "print(f'Get second row\\'s first item: {M[1][0]}')"
   ]
  },
  {
   "cell_type": "code",
   "execution_count": 75,
   "metadata": {},
   "outputs": [
    {
     "name": "stdout",
     "output_type": "stream",
     "text": [
      "['a', 'b', 'c', 'd', 'e', 'f', 'g']\n"
     ]
    }
   ],
   "source": [
    "# Create a shallow copy of a list\n",
    "l_alpha_2 = l_alpha[:]  # l_alpha.copy() also works\n",
    "print(l_alpha_2)"
   ]
  },
  {
   "cell_type": "code",
   "execution_count": 76,
   "metadata": {},
   "outputs": [
    {
     "name": "stdout",
     "output_type": "stream",
     "text": [
      "Starting list: [0, 1, 2, 3, 4, 5, 6, 7, 8, 9, 10]\n",
      "\n",
      "Reversed numbers: [10, 9, 8, 7, 6, 5, 4, 3, 2, 1, 0]\n",
      "\n",
      "Even numbers: [0, 2, 4, 6, 8, 10]\n",
      "\n",
      "Odd numbers: [1, 3, 5, 7, 9]\n"
     ]
    }
   ],
   "source": [
    "# Slicing with step examples\n",
    "l_nums = list(range(11))\n",
    "print(f'Starting list: {l_nums}')\n",
    "\n",
    "# Reverse a list\n",
    "print(f'\\nReversed numbers: {l_nums[::-1]}')\n",
    "\n",
    "# Grab the even numbers in a list\n",
    "print(f'\\nEven numbers: {l_nums[::2]}')\n",
    "\n",
    "# Grab the odd numbers in a list\n",
    "print(f'\\nOdd numbers: {l_nums[1::2]}')"
   ]
  },
  {
   "cell_type": "markdown",
   "metadata": {},
   "source": [
    "### Access and Replace Items in a List"
   ]
  },
  {
   "cell_type": "code",
   "execution_count": 77,
   "metadata": {},
   "outputs": [
    {
     "name": "stdout",
     "output_type": "stream",
     "text": [
      "Starting list: ['a', 'b', 'c', 'd', 'e', 'f', 'g']\n",
      "Updated list: ['a', 'b', 'c', 'd', 'e', 'f', 'golf']\n",
      "\n",
      "Starting list: ['a', 'b', 'c', 'd', 'e', 'f', 'golf']\n",
      "Updated list: ['alpha', 'bravo', 'charlie', 'd', 'e', 'f', 'golf']\n"
     ]
    }
   ],
   "source": [
    "# Replace one item via its index\n",
    "print(f'Starting list: {l_alpha}')\n",
    "l_alpha[-1] = 'golf'\n",
    "print(f'Updated list: {l_alpha}')\n",
    "\n",
    "# Replace several items via a slice\n",
    "print(f'\\nStarting list: {l_alpha}')\n",
    "l_alpha[:3] = ['alpha', 'bravo', 'charlie']\n",
    "print(f'Updated list: {l_alpha}')"
   ]
  },
  {
   "cell_type": "markdown",
   "metadata": {},
   "source": [
    "### Remove Items from a List"
   ]
  },
  {
   "cell_type": "code",
   "execution_count": 78,
   "metadata": {},
   "outputs": [
    {
     "name": "stdout",
     "output_type": "stream",
     "text": [
      "Starting list: ['alpha', 'bravo', 'charlie', 'd', 'e', 'f', 'golf']\n",
      "Updated list: ['alpha', 'bravo', 'charlie', 'd', 'golf']\n"
     ]
    }
   ],
   "source": [
    "# Remove items from a list by position\n",
    "print(f'Starting list: {l_alpha}')\n",
    "del l_alpha[4:6]\n",
    "print(f'Updated list: {l_alpha}')"
   ]
  },
  {
   "cell_type": "code",
   "execution_count": 79,
   "metadata": {},
   "outputs": [
    {
     "name": "stdout",
     "output_type": "stream",
     "text": [
      "Starting list: ['alpha', 'bravo', 'charlie', 'd', 'golf']\n",
      "Updated list: ['alpha', 'bravo', 'charlie', 'golf']\n"
     ]
    }
   ],
   "source": [
    "# Remove items from a list by item\n",
    "print(f'Starting list: {l_alpha}')\n",
    "l_alpha.remove('d')\n",
    "print(f'Updated list: {l_alpha}')"
   ]
  },
  {
   "cell_type": "markdown",
   "metadata": {},
   "source": [
    "### Insert Items into a List"
   ]
  },
  {
   "cell_type": "code",
   "execution_count": 80,
   "metadata": {},
   "outputs": [
    {
     "name": "stdout",
     "output_type": "stream",
     "text": [
      "Original list: ['alpha', 'bravo', 'charlie', 'golf']\n",
      "Updated list: ['alpha', 'bravo', 'charlie', 'delta', 'echo', 'foxtrot', 'golf']\n"
     ]
    }
   ],
   "source": [
    "# Insert items into a list by index\n",
    "print(f'Original list: {l_alpha}')\n",
    "l_alpha.insert(3, 'delta')\n",
    "\n",
    "# Insert multiple items without creating a sub-list\n",
    "l_alpha[4:4] = ['echo', 'foxtrot']\n",
    "print(f'Updated list: {l_alpha}')"
   ]
  },
  {
   "cell_type": "markdown",
   "metadata": {},
   "source": [
    "### Clear a List"
   ]
  },
  {
   "cell_type": "code",
   "execution_count": 81,
   "metadata": {
    "scrolled": true
   },
   "outputs": [
    {
     "name": "stdout",
     "output_type": "stream",
     "text": [
      "Starting list: ['alpha', 'bravo', 'charlie', 'delta', 'echo', 'foxtrot', 'golf']\n",
      "Updated list: []\n"
     ]
    }
   ],
   "source": [
    "# Clear a list's contents\n",
    "print(f'Starting list: {l_alpha}')\n",
    "l_alpha.clear()\n",
    "print(f'Updated list: {l_alpha}')"
   ]
  },
  {
   "cell_type": "markdown",
   "metadata": {},
   "source": [
    "### Sort a List"
   ]
  },
  {
   "cell_type": "code",
   "execution_count": null,
   "metadata": {},
   "outputs": [],
   "source": [
    "# Two options to sort a list:\n",
    "l_phonetic_end = ['whiskey', 'uniform', 'x-ray', 'zulu', 'victor', 'yankee']\n",
    "print(f'Starting list: {l_phonetic_end}')\n",
    "\n",
    "# 1) Sort is done via the `sorted()` function and returns a separate list\n",
    "l_phon_sort = sorted(l_phonetic_end)\n",
    "print(f'New sorted list: {l_phon_sort}')\n",
    "print(f'Original list (unchanged): {l_phonetic_end}')\n",
    "\n",
    "# 2) Sort is done in place via the `.sort()` method and mutates the original list\n",
    "l_phonetic_end.sort()\n",
    "print(f'Updated original list: {l_phonetic_end}')\n",
    "\n",
    "l_phonetic_end"
   ]
  },
  {
   "cell_type": "markdown",
   "metadata": {},
   "source": [
    "### List Summary\n",
    "\n",
    "Lists are a good data structure choice when:\n",
    "\n",
    "- You need a flexible structure where you can change (add, update, remove) items on the fly in your program\n",
    "- You also want items to remain in the order you placed them in the data structure\n",
    "\n",
    "When there are better options:\n",
    "\n",
    "- You are working with a huge set of numbers of the same type (lists aren't as memory efficient as numpy arrays)\n",
    "- You are working with vectors or matrices and need access to optimized calculations\n",
    "- You need to efficiently add/remove items at both ends of the list (check out double-ended queues (`deque`) in the `collections` module)\n",
    "\n",
    "That said, lists are more memory-intensive than other options if you're working with a large number of data points that are all the same type."
   ]
  },
  {
   "cell_type": "markdown",
   "metadata": {},
   "source": [
    "## <a name=\"sets\"></a>Sets\n",
    "\n",
    "In Python, the `set` is a collection of items with the following properties:\n",
    "\n",
    "- it's *mutable*\n",
    "- it's *unordered*\n",
    "- items are *unique*"
   ]
  },
  {
   "cell_type": "code",
   "execution_count": null,
   "metadata": {},
   "outputs": [],
   "source": []
  },
  {
   "cell_type": "markdown",
   "metadata": {},
   "source": [
    "## <a name=\"frozsets\"></a>Frozen Sets"
   ]
  },
  {
   "cell_type": "code",
   "execution_count": null,
   "metadata": {},
   "outputs": [],
   "source": []
  },
  {
   "cell_type": "code",
   "execution_count": null,
   "metadata": {},
   "outputs": [],
   "source": []
  },
  {
   "cell_type": "code",
   "execution_count": null,
   "metadata": {},
   "outputs": [],
   "source": []
  },
  {
   "cell_type": "markdown",
   "metadata": {},
   "source": [
    "## <a name=\"comprehensions\"></a>Comprehensions"
   ]
  },
  {
   "cell_type": "code",
   "execution_count": null,
   "metadata": {},
   "outputs": [],
   "source": []
  },
  {
   "cell_type": "code",
   "execution_count": null,
   "metadata": {},
   "outputs": [],
   "source": []
  },
  {
   "cell_type": "code",
   "execution_count": null,
   "metadata": {},
   "outputs": [],
   "source": []
  },
  {
   "cell_type": "markdown",
   "metadata": {},
   "source": [
    "## <a name=\"arrays\"></a>numpy Arrays"
   ]
  },
  {
   "cell_type": "code",
   "execution_count": 82,
   "metadata": {},
   "outputs": [],
   "source": [
    "import numpy as np"
   ]
  },
  {
   "cell_type": "code",
   "execution_count": null,
   "metadata": {},
   "outputs": [],
   "source": []
  },
  {
   "cell_type": "code",
   "execution_count": null,
   "metadata": {},
   "outputs": [],
   "source": []
  }
 ],
 "metadata": {
  "kernelspec": {
   "display_name": "Python 3",
   "language": "python",
   "name": "python3"
  },
  "language_info": {
   "codemirror_mode": {
    "name": "ipython",
    "version": 3
   },
   "file_extension": ".py",
   "mimetype": "text/x-python",
   "name": "python",
   "nbconvert_exporter": "python",
   "pygments_lexer": "ipython3",
   "version": "3.7.7"
  }
 },
 "nbformat": 4,
 "nbformat_minor": 4
}
