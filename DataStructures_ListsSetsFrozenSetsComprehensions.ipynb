{
 "cells": [
  {
   "cell_type": "markdown",
   "metadata": {},
   "source": [
    "# Python Data Structures\n",
    "\n",
    "All programming languages have ways to store and recognize different types of data (numbers, text, etc.), along with the logical mechanisms that allow you to perform useful or interesting things on that data. Often times you'll need more complex ways to organize your program's data than having each item saved in a variable.\n",
    "\n",
    "**Data structures** are schemes for how to organize your data in more efficient or effective ways. Python offers many different options, and the 'best' choice will highly depend on the task your program is performing. Taking the time to think through your options can not only make your job of coding the program easier, but also optimize it to run faster and/or use less memory."
   ]
  },
  {
   "cell_type": "markdown",
   "metadata": {},
   "source": [
    "## Lists\n",
    "\n",
    "In Python, the `list` is a collection of items with the following properties:\n",
    "\n",
    "- it's *mutable*: you can change it after you've created it\n",
    "- it's *ordered*: each item's 'address' is its index, or position, in the list"
   ]
  },
  {
   "cell_type": "markdown",
   "metadata": {},
   "source": [
    "## Sets\n",
    "\n",
    "In Python, the `set` is a collection of items with the following properties:\n",
    "\n",
    "- it's *mutable*\n",
    "- it's *unordered*\n",
    "- items are *unique*"
   ]
  }
 ],
 "metadata": {
  "kernelspec": {
   "display_name": "Python 3",
   "language": "python",
   "name": "python3"
  },
  "language_info": {
   "codemirror_mode": {
    "name": "ipython",
    "version": 3
   },
   "file_extension": ".py",
   "mimetype": "text/x-python",
   "name": "python",
   "nbconvert_exporter": "python",
   "pygments_lexer": "ipython3",
   "version": "3.7.7"
  }
 },
 "nbformat": 4,
 "nbformat_minor": 4
}
